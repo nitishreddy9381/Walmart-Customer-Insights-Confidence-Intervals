{
  "nbformat": 4,
  "nbformat_minor": 0,
  "metadata": {
    "colab": {
      "provenance": []
    },
    "kernelspec": {
      "name": "python3",
      "display_name": "Python 3"
    },
    "language_info": {
      "name": "python"
    }
  },
  "cells": [
    {
      "cell_type": "markdown",
      "source": [
        "**AJJPALLY NITHISH REDDY**"
      ],
      "metadata": {
        "id": "s0B2wnWMKihq"
      }
    },
    {
      "cell_type": "code",
      "execution_count": null,
      "metadata": {
        "id": "FVcfaM9IbA2H"
      },
      "outputs": [],
      "source": [
        "import numpy as np\n",
        "import pandas as pd\n",
        "import matplotlib.pyplot as plt\n",
        "import seaborn as sns\n"
      ]
    },
    {
      "cell_type": "code",
      "source": [
        "from google.colab import files\n",
        "uploaded = files.upload()"
      ],
      "metadata": {
        "colab": {
          "base_uri": "https://localhost:8080/",
          "height": 73
        },
        "id": "9ExH8y7gbPb2",
        "outputId": "442e33b4-c66b-4042-d89e-03f6dfa0d473"
      },
      "execution_count": null,
      "outputs": [
        {
          "output_type": "display_data",
          "data": {
            "text/plain": [
              "<IPython.core.display.HTML object>"
            ],
            "text/html": [
              "\n",
              "     <input type=\"file\" id=\"files-99db6eb6-d8c4-4183-920c-326805f16825\" name=\"files[]\" multiple disabled\n",
              "        style=\"border:none\" />\n",
              "     <output id=\"result-99db6eb6-d8c4-4183-920c-326805f16825\">\n",
              "      Upload widget is only available when the cell has been executed in the\n",
              "      current browser session. Please rerun this cell to enable.\n",
              "      </output>\n",
              "      <script>// Copyright 2017 Google LLC\n",
              "//\n",
              "// Licensed under the Apache License, Version 2.0 (the \"License\");\n",
              "// you may not use this file except in compliance with the License.\n",
              "// You may obtain a copy of the License at\n",
              "//\n",
              "//      http://www.apache.org/licenses/LICENSE-2.0\n",
              "//\n",
              "// Unless required by applicable law or agreed to in writing, software\n",
              "// distributed under the License is distributed on an \"AS IS\" BASIS,\n",
              "// WITHOUT WARRANTIES OR CONDITIONS OF ANY KIND, either express or implied.\n",
              "// See the License for the specific language governing permissions and\n",
              "// limitations under the License.\n",
              "\n",
              "/**\n",
              " * @fileoverview Helpers for google.colab Python module.\n",
              " */\n",
              "(function(scope) {\n",
              "function span(text, styleAttributes = {}) {\n",
              "  const element = document.createElement('span');\n",
              "  element.textContent = text;\n",
              "  for (const key of Object.keys(styleAttributes)) {\n",
              "    element.style[key] = styleAttributes[key];\n",
              "  }\n",
              "  return element;\n",
              "}\n",
              "\n",
              "// Max number of bytes which will be uploaded at a time.\n",
              "const MAX_PAYLOAD_SIZE = 100 * 1024;\n",
              "\n",
              "function _uploadFiles(inputId, outputId) {\n",
              "  const steps = uploadFilesStep(inputId, outputId);\n",
              "  const outputElement = document.getElementById(outputId);\n",
              "  // Cache steps on the outputElement to make it available for the next call\n",
              "  // to uploadFilesContinue from Python.\n",
              "  outputElement.steps = steps;\n",
              "\n",
              "  return _uploadFilesContinue(outputId);\n",
              "}\n",
              "\n",
              "// This is roughly an async generator (not supported in the browser yet),\n",
              "// where there are multiple asynchronous steps and the Python side is going\n",
              "// to poll for completion of each step.\n",
              "// This uses a Promise to block the python side on completion of each step,\n",
              "// then passes the result of the previous step as the input to the next step.\n",
              "function _uploadFilesContinue(outputId) {\n",
              "  const outputElement = document.getElementById(outputId);\n",
              "  const steps = outputElement.steps;\n",
              "\n",
              "  const next = steps.next(outputElement.lastPromiseValue);\n",
              "  return Promise.resolve(next.value.promise).then((value) => {\n",
              "    // Cache the last promise value to make it available to the next\n",
              "    // step of the generator.\n",
              "    outputElement.lastPromiseValue = value;\n",
              "    return next.value.response;\n",
              "  });\n",
              "}\n",
              "\n",
              "/**\n",
              " * Generator function which is called between each async step of the upload\n",
              " * process.\n",
              " * @param {string} inputId Element ID of the input file picker element.\n",
              " * @param {string} outputId Element ID of the output display.\n",
              " * @return {!Iterable<!Object>} Iterable of next steps.\n",
              " */\n",
              "function* uploadFilesStep(inputId, outputId) {\n",
              "  const inputElement = document.getElementById(inputId);\n",
              "  inputElement.disabled = false;\n",
              "\n",
              "  const outputElement = document.getElementById(outputId);\n",
              "  outputElement.innerHTML = '';\n",
              "\n",
              "  const pickedPromise = new Promise((resolve) => {\n",
              "    inputElement.addEventListener('change', (e) => {\n",
              "      resolve(e.target.files);\n",
              "    });\n",
              "  });\n",
              "\n",
              "  const cancel = document.createElement('button');\n",
              "  inputElement.parentElement.appendChild(cancel);\n",
              "  cancel.textContent = 'Cancel upload';\n",
              "  const cancelPromise = new Promise((resolve) => {\n",
              "    cancel.onclick = () => {\n",
              "      resolve(null);\n",
              "    };\n",
              "  });\n",
              "\n",
              "  // Wait for the user to pick the files.\n",
              "  const files = yield {\n",
              "    promise: Promise.race([pickedPromise, cancelPromise]),\n",
              "    response: {\n",
              "      action: 'starting',\n",
              "    }\n",
              "  };\n",
              "\n",
              "  cancel.remove();\n",
              "\n",
              "  // Disable the input element since further picks are not allowed.\n",
              "  inputElement.disabled = true;\n",
              "\n",
              "  if (!files) {\n",
              "    return {\n",
              "      response: {\n",
              "        action: 'complete',\n",
              "      }\n",
              "    };\n",
              "  }\n",
              "\n",
              "  for (const file of files) {\n",
              "    const li = document.createElement('li');\n",
              "    li.append(span(file.name, {fontWeight: 'bold'}));\n",
              "    li.append(span(\n",
              "        `(${file.type || 'n/a'}) - ${file.size} bytes, ` +\n",
              "        `last modified: ${\n",
              "            file.lastModifiedDate ? file.lastModifiedDate.toLocaleDateString() :\n",
              "                                    'n/a'} - `));\n",
              "    const percent = span('0% done');\n",
              "    li.appendChild(percent);\n",
              "\n",
              "    outputElement.appendChild(li);\n",
              "\n",
              "    const fileDataPromise = new Promise((resolve) => {\n",
              "      const reader = new FileReader();\n",
              "      reader.onload = (e) => {\n",
              "        resolve(e.target.result);\n",
              "      };\n",
              "      reader.readAsArrayBuffer(file);\n",
              "    });\n",
              "    // Wait for the data to be ready.\n",
              "    let fileData = yield {\n",
              "      promise: fileDataPromise,\n",
              "      response: {\n",
              "        action: 'continue',\n",
              "      }\n",
              "    };\n",
              "\n",
              "    // Use a chunked sending to avoid message size limits. See b/62115660.\n",
              "    let position = 0;\n",
              "    do {\n",
              "      const length = Math.min(fileData.byteLength - position, MAX_PAYLOAD_SIZE);\n",
              "      const chunk = new Uint8Array(fileData, position, length);\n",
              "      position += length;\n",
              "\n",
              "      const base64 = btoa(String.fromCharCode.apply(null, chunk));\n",
              "      yield {\n",
              "        response: {\n",
              "          action: 'append',\n",
              "          file: file.name,\n",
              "          data: base64,\n",
              "        },\n",
              "      };\n",
              "\n",
              "      let percentDone = fileData.byteLength === 0 ?\n",
              "          100 :\n",
              "          Math.round((position / fileData.byteLength) * 100);\n",
              "      percent.textContent = `${percentDone}% done`;\n",
              "\n",
              "    } while (position < fileData.byteLength);\n",
              "  }\n",
              "\n",
              "  // All done.\n",
              "  yield {\n",
              "    response: {\n",
              "      action: 'complete',\n",
              "    }\n",
              "  };\n",
              "}\n",
              "\n",
              "scope.google = scope.google || {};\n",
              "scope.google.colab = scope.google.colab || {};\n",
              "scope.google.colab._files = {\n",
              "  _uploadFiles,\n",
              "  _uploadFilesContinue,\n",
              "};\n",
              "})(self);\n",
              "</script> "
            ]
          },
          "metadata": {}
        },
        {
          "output_type": "stream",
          "name": "stdout",
          "text": [
            "Saving walmart_data.csv to walmart_data.csv\n"
          ]
        }
      ]
    },
    {
      "cell_type": "code",
      "source": [
        "df=pd.read_csv('walmart_data.csv')"
      ],
      "metadata": {
        "id": "aPTBZMGVbbxE"
      },
      "execution_count": null,
      "outputs": []
    },
    {
      "cell_type": "code",
      "source": [
        "df"
      ],
      "metadata": {
        "colab": {
          "base_uri": "https://localhost:8080/",
          "height": 423
        },
        "id": "xFIiPYzRb_In",
        "outputId": "fcf1a60c-1962-4e27-f3e7-32d43c86a643"
      },
      "execution_count": null,
      "outputs": [
        {
          "output_type": "execute_result",
          "data": {
            "text/plain": [
              "        User_ID Product_ID Gender    Age  Occupation City_Category  \\\n",
              "0       1000001  P00069042      F   0-17          10             A   \n",
              "1       1000001  P00248942      F   0-17          10             A   \n",
              "2       1000001  P00087842      F   0-17          10             A   \n",
              "3       1000001  P00085442      F   0-17          10             A   \n",
              "4       1000002  P00285442      M    55+          16             C   \n",
              "...         ...        ...    ...    ...         ...           ...   \n",
              "550063  1006033  P00372445      M  51-55          13             B   \n",
              "550064  1006035  P00375436      F  26-35           1             C   \n",
              "550065  1006036  P00375436      F  26-35          15             B   \n",
              "550066  1006038  P00375436      F    55+           1             C   \n",
              "550067  1006039  P00371644      F  46-50           0             B   \n",
              "\n",
              "       Stay_In_Current_City_Years  Marital_Status  Product_Category  Purchase  \n",
              "0                               2               0                 3      8370  \n",
              "1                               2               0                 1     15200  \n",
              "2                               2               0                12      1422  \n",
              "3                               2               0                12      1057  \n",
              "4                              4+               0                 8      7969  \n",
              "...                           ...             ...               ...       ...  \n",
              "550063                          1               1                20       368  \n",
              "550064                          3               0                20       371  \n",
              "550065                         4+               1                20       137  \n",
              "550066                          2               0                20       365  \n",
              "550067                         4+               1                20       490  \n",
              "\n",
              "[550068 rows x 10 columns]"
            ],
            "text/html": [
              "\n",
              "  <div id=\"df-7b2cee59-7bf4-43fa-b431-59eab41a6ec8\" class=\"colab-df-container\">\n",
              "    <div>\n",
              "<style scoped>\n",
              "    .dataframe tbody tr th:only-of-type {\n",
              "        vertical-align: middle;\n",
              "    }\n",
              "\n",
              "    .dataframe tbody tr th {\n",
              "        vertical-align: top;\n",
              "    }\n",
              "\n",
              "    .dataframe thead th {\n",
              "        text-align: right;\n",
              "    }\n",
              "</style>\n",
              "<table border=\"1\" class=\"dataframe\">\n",
              "  <thead>\n",
              "    <tr style=\"text-align: right;\">\n",
              "      <th></th>\n",
              "      <th>User_ID</th>\n",
              "      <th>Product_ID</th>\n",
              "      <th>Gender</th>\n",
              "      <th>Age</th>\n",
              "      <th>Occupation</th>\n",
              "      <th>City_Category</th>\n",
              "      <th>Stay_In_Current_City_Years</th>\n",
              "      <th>Marital_Status</th>\n",
              "      <th>Product_Category</th>\n",
              "      <th>Purchase</th>\n",
              "    </tr>\n",
              "  </thead>\n",
              "  <tbody>\n",
              "    <tr>\n",
              "      <th>0</th>\n",
              "      <td>1000001</td>\n",
              "      <td>P00069042</td>\n",
              "      <td>F</td>\n",
              "      <td>0-17</td>\n",
              "      <td>10</td>\n",
              "      <td>A</td>\n",
              "      <td>2</td>\n",
              "      <td>0</td>\n",
              "      <td>3</td>\n",
              "      <td>8370</td>\n",
              "    </tr>\n",
              "    <tr>\n",
              "      <th>1</th>\n",
              "      <td>1000001</td>\n",
              "      <td>P00248942</td>\n",
              "      <td>F</td>\n",
              "      <td>0-17</td>\n",
              "      <td>10</td>\n",
              "      <td>A</td>\n",
              "      <td>2</td>\n",
              "      <td>0</td>\n",
              "      <td>1</td>\n",
              "      <td>15200</td>\n",
              "    </tr>\n",
              "    <tr>\n",
              "      <th>2</th>\n",
              "      <td>1000001</td>\n",
              "      <td>P00087842</td>\n",
              "      <td>F</td>\n",
              "      <td>0-17</td>\n",
              "      <td>10</td>\n",
              "      <td>A</td>\n",
              "      <td>2</td>\n",
              "      <td>0</td>\n",
              "      <td>12</td>\n",
              "      <td>1422</td>\n",
              "    </tr>\n",
              "    <tr>\n",
              "      <th>3</th>\n",
              "      <td>1000001</td>\n",
              "      <td>P00085442</td>\n",
              "      <td>F</td>\n",
              "      <td>0-17</td>\n",
              "      <td>10</td>\n",
              "      <td>A</td>\n",
              "      <td>2</td>\n",
              "      <td>0</td>\n",
              "      <td>12</td>\n",
              "      <td>1057</td>\n",
              "    </tr>\n",
              "    <tr>\n",
              "      <th>4</th>\n",
              "      <td>1000002</td>\n",
              "      <td>P00285442</td>\n",
              "      <td>M</td>\n",
              "      <td>55+</td>\n",
              "      <td>16</td>\n",
              "      <td>C</td>\n",
              "      <td>4+</td>\n",
              "      <td>0</td>\n",
              "      <td>8</td>\n",
              "      <td>7969</td>\n",
              "    </tr>\n",
              "    <tr>\n",
              "      <th>...</th>\n",
              "      <td>...</td>\n",
              "      <td>...</td>\n",
              "      <td>...</td>\n",
              "      <td>...</td>\n",
              "      <td>...</td>\n",
              "      <td>...</td>\n",
              "      <td>...</td>\n",
              "      <td>...</td>\n",
              "      <td>...</td>\n",
              "      <td>...</td>\n",
              "    </tr>\n",
              "    <tr>\n",
              "      <th>550063</th>\n",
              "      <td>1006033</td>\n",
              "      <td>P00372445</td>\n",
              "      <td>M</td>\n",
              "      <td>51-55</td>\n",
              "      <td>13</td>\n",
              "      <td>B</td>\n",
              "      <td>1</td>\n",
              "      <td>1</td>\n",
              "      <td>20</td>\n",
              "      <td>368</td>\n",
              "    </tr>\n",
              "    <tr>\n",
              "      <th>550064</th>\n",
              "      <td>1006035</td>\n",
              "      <td>P00375436</td>\n",
              "      <td>F</td>\n",
              "      <td>26-35</td>\n",
              "      <td>1</td>\n",
              "      <td>C</td>\n",
              "      <td>3</td>\n",
              "      <td>0</td>\n",
              "      <td>20</td>\n",
              "      <td>371</td>\n",
              "    </tr>\n",
              "    <tr>\n",
              "      <th>550065</th>\n",
              "      <td>1006036</td>\n",
              "      <td>P00375436</td>\n",
              "      <td>F</td>\n",
              "      <td>26-35</td>\n",
              "      <td>15</td>\n",
              "      <td>B</td>\n",
              "      <td>4+</td>\n",
              "      <td>1</td>\n",
              "      <td>20</td>\n",
              "      <td>137</td>\n",
              "    </tr>\n",
              "    <tr>\n",
              "      <th>550066</th>\n",
              "      <td>1006038</td>\n",
              "      <td>P00375436</td>\n",
              "      <td>F</td>\n",
              "      <td>55+</td>\n",
              "      <td>1</td>\n",
              "      <td>C</td>\n",
              "      <td>2</td>\n",
              "      <td>0</td>\n",
              "      <td>20</td>\n",
              "      <td>365</td>\n",
              "    </tr>\n",
              "    <tr>\n",
              "      <th>550067</th>\n",
              "      <td>1006039</td>\n",
              "      <td>P00371644</td>\n",
              "      <td>F</td>\n",
              "      <td>46-50</td>\n",
              "      <td>0</td>\n",
              "      <td>B</td>\n",
              "      <td>4+</td>\n",
              "      <td>1</td>\n",
              "      <td>20</td>\n",
              "      <td>490</td>\n",
              "    </tr>\n",
              "  </tbody>\n",
              "</table>\n",
              "<p>550068 rows × 10 columns</p>\n",
              "</div>\n",
              "    <div class=\"colab-df-buttons\">\n",
              "\n",
              "  <div class=\"colab-df-container\">\n",
              "    <button class=\"colab-df-convert\" onclick=\"convertToInteractive('df-7b2cee59-7bf4-43fa-b431-59eab41a6ec8')\"\n",
              "            title=\"Convert this dataframe to an interactive table.\"\n",
              "            style=\"display:none;\">\n",
              "\n",
              "  <svg xmlns=\"http://www.w3.org/2000/svg\" height=\"24px\" viewBox=\"0 -960 960 960\">\n",
              "    <path d=\"M120-120v-720h720v720H120Zm60-500h600v-160H180v160Zm220 220h160v-160H400v160Zm0 220h160v-160H400v160ZM180-400h160v-160H180v160Zm440 0h160v-160H620v160ZM180-180h160v-160H180v160Zm440 0h160v-160H620v160Z\"/>\n",
              "  </svg>\n",
              "    </button>\n",
              "\n",
              "  <style>\n",
              "    .colab-df-container {\n",
              "      display:flex;\n",
              "      gap: 12px;\n",
              "    }\n",
              "\n",
              "    .colab-df-convert {\n",
              "      background-color: #E8F0FE;\n",
              "      border: none;\n",
              "      border-radius: 50%;\n",
              "      cursor: pointer;\n",
              "      display: none;\n",
              "      fill: #1967D2;\n",
              "      height: 32px;\n",
              "      padding: 0 0 0 0;\n",
              "      width: 32px;\n",
              "    }\n",
              "\n",
              "    .colab-df-convert:hover {\n",
              "      background-color: #E2EBFA;\n",
              "      box-shadow: 0px 1px 2px rgba(60, 64, 67, 0.3), 0px 1px 3px 1px rgba(60, 64, 67, 0.15);\n",
              "      fill: #174EA6;\n",
              "    }\n",
              "\n",
              "    .colab-df-buttons div {\n",
              "      margin-bottom: 4px;\n",
              "    }\n",
              "\n",
              "    [theme=dark] .colab-df-convert {\n",
              "      background-color: #3B4455;\n",
              "      fill: #D2E3FC;\n",
              "    }\n",
              "\n",
              "    [theme=dark] .colab-df-convert:hover {\n",
              "      background-color: #434B5C;\n",
              "      box-shadow: 0px 1px 3px 1px rgba(0, 0, 0, 0.15);\n",
              "      filter: drop-shadow(0px 1px 2px rgba(0, 0, 0, 0.3));\n",
              "      fill: #FFFFFF;\n",
              "    }\n",
              "  </style>\n",
              "\n",
              "    <script>\n",
              "      const buttonEl =\n",
              "        document.querySelector('#df-7b2cee59-7bf4-43fa-b431-59eab41a6ec8 button.colab-df-convert');\n",
              "      buttonEl.style.display =\n",
              "        google.colab.kernel.accessAllowed ? 'block' : 'none';\n",
              "\n",
              "      async function convertToInteractive(key) {\n",
              "        const element = document.querySelector('#df-7b2cee59-7bf4-43fa-b431-59eab41a6ec8');\n",
              "        const dataTable =\n",
              "          await google.colab.kernel.invokeFunction('convertToInteractive',\n",
              "                                                    [key], {});\n",
              "        if (!dataTable) return;\n",
              "\n",
              "        const docLinkHtml = 'Like what you see? Visit the ' +\n",
              "          '<a target=\"_blank\" href=https://colab.research.google.com/notebooks/data_table.ipynb>data table notebook</a>'\n",
              "          + ' to learn more about interactive tables.';\n",
              "        element.innerHTML = '';\n",
              "        dataTable['output_type'] = 'display_data';\n",
              "        await google.colab.output.renderOutput(dataTable, element);\n",
              "        const docLink = document.createElement('div');\n",
              "        docLink.innerHTML = docLinkHtml;\n",
              "        element.appendChild(docLink);\n",
              "      }\n",
              "    </script>\n",
              "  </div>\n",
              "\n",
              "\n",
              "<div id=\"df-ad2320c5-8507-4b17-827c-12750a100358\">\n",
              "  <button class=\"colab-df-quickchart\" onclick=\"quickchart('df-ad2320c5-8507-4b17-827c-12750a100358')\"\n",
              "            title=\"Suggest charts\"\n",
              "            style=\"display:none;\">\n",
              "\n",
              "<svg xmlns=\"http://www.w3.org/2000/svg\" height=\"24px\"viewBox=\"0 0 24 24\"\n",
              "     width=\"24px\">\n",
              "    <g>\n",
              "        <path d=\"M19 3H5c-1.1 0-2 .9-2 2v14c0 1.1.9 2 2 2h14c1.1 0 2-.9 2-2V5c0-1.1-.9-2-2-2zM9 17H7v-7h2v7zm4 0h-2V7h2v10zm4 0h-2v-4h2v4z\"/>\n",
              "    </g>\n",
              "</svg>\n",
              "  </button>\n",
              "\n",
              "<style>\n",
              "  .colab-df-quickchart {\n",
              "      --bg-color: #E8F0FE;\n",
              "      --fill-color: #1967D2;\n",
              "      --hover-bg-color: #E2EBFA;\n",
              "      --hover-fill-color: #174EA6;\n",
              "      --disabled-fill-color: #AAA;\n",
              "      --disabled-bg-color: #DDD;\n",
              "  }\n",
              "\n",
              "  [theme=dark] .colab-df-quickchart {\n",
              "      --bg-color: #3B4455;\n",
              "      --fill-color: #D2E3FC;\n",
              "      --hover-bg-color: #434B5C;\n",
              "      --hover-fill-color: #FFFFFF;\n",
              "      --disabled-bg-color: #3B4455;\n",
              "      --disabled-fill-color: #666;\n",
              "  }\n",
              "\n",
              "  .colab-df-quickchart {\n",
              "    background-color: var(--bg-color);\n",
              "    border: none;\n",
              "    border-radius: 50%;\n",
              "    cursor: pointer;\n",
              "    display: none;\n",
              "    fill: var(--fill-color);\n",
              "    height: 32px;\n",
              "    padding: 0;\n",
              "    width: 32px;\n",
              "  }\n",
              "\n",
              "  .colab-df-quickchart:hover {\n",
              "    background-color: var(--hover-bg-color);\n",
              "    box-shadow: 0 1px 2px rgba(60, 64, 67, 0.3), 0 1px 3px 1px rgba(60, 64, 67, 0.15);\n",
              "    fill: var(--button-hover-fill-color);\n",
              "  }\n",
              "\n",
              "  .colab-df-quickchart-complete:disabled,\n",
              "  .colab-df-quickchart-complete:disabled:hover {\n",
              "    background-color: var(--disabled-bg-color);\n",
              "    fill: var(--disabled-fill-color);\n",
              "    box-shadow: none;\n",
              "  }\n",
              "\n",
              "  .colab-df-spinner {\n",
              "    border: 2px solid var(--fill-color);\n",
              "    border-color: transparent;\n",
              "    border-bottom-color: var(--fill-color);\n",
              "    animation:\n",
              "      spin 1s steps(1) infinite;\n",
              "  }\n",
              "\n",
              "  @keyframes spin {\n",
              "    0% {\n",
              "      border-color: transparent;\n",
              "      border-bottom-color: var(--fill-color);\n",
              "      border-left-color: var(--fill-color);\n",
              "    }\n",
              "    20% {\n",
              "      border-color: transparent;\n",
              "      border-left-color: var(--fill-color);\n",
              "      border-top-color: var(--fill-color);\n",
              "    }\n",
              "    30% {\n",
              "      border-color: transparent;\n",
              "      border-left-color: var(--fill-color);\n",
              "      border-top-color: var(--fill-color);\n",
              "      border-right-color: var(--fill-color);\n",
              "    }\n",
              "    40% {\n",
              "      border-color: transparent;\n",
              "      border-right-color: var(--fill-color);\n",
              "      border-top-color: var(--fill-color);\n",
              "    }\n",
              "    60% {\n",
              "      border-color: transparent;\n",
              "      border-right-color: var(--fill-color);\n",
              "    }\n",
              "    80% {\n",
              "      border-color: transparent;\n",
              "      border-right-color: var(--fill-color);\n",
              "      border-bottom-color: var(--fill-color);\n",
              "    }\n",
              "    90% {\n",
              "      border-color: transparent;\n",
              "      border-bottom-color: var(--fill-color);\n",
              "    }\n",
              "  }\n",
              "</style>\n",
              "\n",
              "  <script>\n",
              "    async function quickchart(key) {\n",
              "      const quickchartButtonEl =\n",
              "        document.querySelector('#' + key + ' button');\n",
              "      quickchartButtonEl.disabled = true;  // To prevent multiple clicks.\n",
              "      quickchartButtonEl.classList.add('colab-df-spinner');\n",
              "      try {\n",
              "        const charts = await google.colab.kernel.invokeFunction(\n",
              "            'suggestCharts', [key], {});\n",
              "      } catch (error) {\n",
              "        console.error('Error during call to suggestCharts:', error);\n",
              "      }\n",
              "      quickchartButtonEl.classList.remove('colab-df-spinner');\n",
              "      quickchartButtonEl.classList.add('colab-df-quickchart-complete');\n",
              "    }\n",
              "    (() => {\n",
              "      let quickchartButtonEl =\n",
              "        document.querySelector('#df-ad2320c5-8507-4b17-827c-12750a100358 button');\n",
              "      quickchartButtonEl.style.display =\n",
              "        google.colab.kernel.accessAllowed ? 'block' : 'none';\n",
              "    })();\n",
              "  </script>\n",
              "</div>\n",
              "\n",
              "  <div id=\"id_a6302e8a-ced8-4921-9063-fef67bee65bb\">\n",
              "    <style>\n",
              "      .colab-df-generate {\n",
              "        background-color: #E8F0FE;\n",
              "        border: none;\n",
              "        border-radius: 50%;\n",
              "        cursor: pointer;\n",
              "        display: none;\n",
              "        fill: #1967D2;\n",
              "        height: 32px;\n",
              "        padding: 0 0 0 0;\n",
              "        width: 32px;\n",
              "      }\n",
              "\n",
              "      .colab-df-generate:hover {\n",
              "        background-color: #E2EBFA;\n",
              "        box-shadow: 0px 1px 2px rgba(60, 64, 67, 0.3), 0px 1px 3px 1px rgba(60, 64, 67, 0.15);\n",
              "        fill: #174EA6;\n",
              "      }\n",
              "\n",
              "      [theme=dark] .colab-df-generate {\n",
              "        background-color: #3B4455;\n",
              "        fill: #D2E3FC;\n",
              "      }\n",
              "\n",
              "      [theme=dark] .colab-df-generate:hover {\n",
              "        background-color: #434B5C;\n",
              "        box-shadow: 0px 1px 3px 1px rgba(0, 0, 0, 0.15);\n",
              "        filter: drop-shadow(0px 1px 2px rgba(0, 0, 0, 0.3));\n",
              "        fill: #FFFFFF;\n",
              "      }\n",
              "    </style>\n",
              "    <button class=\"colab-df-generate\" onclick=\"generateWithVariable('df')\"\n",
              "            title=\"Generate code using this dataframe.\"\n",
              "            style=\"display:none;\">\n",
              "\n",
              "  <svg xmlns=\"http://www.w3.org/2000/svg\" height=\"24px\"viewBox=\"0 0 24 24\"\n",
              "       width=\"24px\">\n",
              "    <path d=\"M7,19H8.4L18.45,9,17,7.55,7,17.6ZM5,21V16.75L18.45,3.32a2,2,0,0,1,2.83,0l1.4,1.43a1.91,1.91,0,0,1,.58,1.4,1.91,1.91,0,0,1-.58,1.4L9.25,21ZM18.45,9,17,7.55Zm-12,3A5.31,5.31,0,0,0,4.9,8.1,5.31,5.31,0,0,0,1,6.5,5.31,5.31,0,0,0,4.9,4.9,5.31,5.31,0,0,0,6.5,1,5.31,5.31,0,0,0,8.1,4.9,5.31,5.31,0,0,0,12,6.5,5.46,5.46,0,0,0,6.5,12Z\"/>\n",
              "  </svg>\n",
              "    </button>\n",
              "    <script>\n",
              "      (() => {\n",
              "      const buttonEl =\n",
              "        document.querySelector('#id_a6302e8a-ced8-4921-9063-fef67bee65bb button.colab-df-generate');\n",
              "      buttonEl.style.display =\n",
              "        google.colab.kernel.accessAllowed ? 'block' : 'none';\n",
              "\n",
              "      buttonEl.onclick = () => {\n",
              "        google.colab.notebook.generateWithVariable('df');\n",
              "      }\n",
              "      })();\n",
              "    </script>\n",
              "  </div>\n",
              "\n",
              "    </div>\n",
              "  </div>\n"
            ],
            "application/vnd.google.colaboratory.intrinsic+json": {
              "type": "dataframe",
              "variable_name": "df"
            }
          },
          "metadata": {},
          "execution_count": 4
        }
      ]
    },
    {
      "cell_type": "markdown",
      "source": [
        "##**1. Import the dataset and do usual data analysis steps like checking the structure & characteristics of the dataset**\n"
      ],
      "metadata": {
        "id": "jK-KW1o5c3Qw"
      }
    },
    {
      "cell_type": "code",
      "source": [
        "df.info()"
      ],
      "metadata": {
        "colab": {
          "base_uri": "https://localhost:8080/"
        },
        "id": "Im3LCMRodEDz",
        "outputId": "c4aaee7f-9ffe-4c6a-cbab-ef2b144ab253"
      },
      "execution_count": null,
      "outputs": [
        {
          "output_type": "stream",
          "name": "stdout",
          "text": [
            "<class 'pandas.core.frame.DataFrame'>\n",
            "RangeIndex: 550068 entries, 0 to 550067\n",
            "Data columns (total 10 columns):\n",
            " #   Column                      Non-Null Count   Dtype \n",
            "---  ------                      --------------   ----- \n",
            " 0   User_ID                     550068 non-null  int64 \n",
            " 1   Product_ID                  550068 non-null  object\n",
            " 2   Gender                      550068 non-null  object\n",
            " 3   Age                         550068 non-null  object\n",
            " 4   Occupation                  550068 non-null  int64 \n",
            " 5   City_Category               550068 non-null  object\n",
            " 6   Stay_In_Current_City_Years  550068 non-null  object\n",
            " 7   Marital_Status              550068 non-null  int64 \n",
            " 8   Product_Category            550068 non-null  int64 \n",
            " 9   Purchase                    550068 non-null  int64 \n",
            "dtypes: int64(5), object(5)\n",
            "memory usage: 42.0+ MB\n"
          ]
        }
      ]
    },
    {
      "cell_type": "code",
      "source": [
        "print(\"\\nData types of each column:\")\n",
        "print(df.dtypes)"
      ],
      "metadata": {
        "colab": {
          "base_uri": "https://localhost:8080/"
        },
        "id": "JZvzcJsSdXlo",
        "outputId": "9af11858-c493-41e0-bdbf-483ce4210ae8"
      },
      "execution_count": null,
      "outputs": [
        {
          "output_type": "stream",
          "name": "stdout",
          "text": [
            "\n",
            "Data types of each column:\n",
            "User_ID                        int64\n",
            "Product_ID                    object\n",
            "Gender                        object\n",
            "Age                           object\n",
            "Occupation                     int64\n",
            "City_Category                 object\n",
            "Stay_In_Current_City_Years    object\n",
            "Marital_Status                 int64\n",
            "Product_Category               int64\n",
            "Purchase                       int64\n",
            "dtype: object\n"
          ]
        }
      ]
    },
    {
      "cell_type": "code",
      "source": [
        "print(\"\\nShape of the dataset (Rows, Columns):\", df.shape)"
      ],
      "metadata": {
        "colab": {
          "base_uri": "https://localhost:8080/"
        },
        "id": "OGdMoTb6dI2I",
        "outputId": "7c24f7fa-9499-4ffc-bde3-1ac1df988ae3"
      },
      "execution_count": null,
      "outputs": [
        {
          "output_type": "stream",
          "name": "stdout",
          "text": [
            "\n",
            "Shape of the dataset (Rows, Columns): (550068, 10)\n"
          ]
        }
      ]
    },
    {
      "cell_type": "code",
      "source": [
        "print(\"\\nMissing values in each column:\")\n",
        "print(df.isnull().sum())"
      ],
      "metadata": {
        "colab": {
          "base_uri": "https://localhost:8080/"
        },
        "id": "o23P2aTMdMbk",
        "outputId": "a1eaa63d-e6ae-4970-b879-ee2d23554552"
      },
      "execution_count": null,
      "outputs": [
        {
          "output_type": "stream",
          "name": "stdout",
          "text": [
            "\n",
            "Missing values in each column:\n",
            "User_ID                       0\n",
            "Product_ID                    0\n",
            "Gender                        0\n",
            "Age                           0\n",
            "Occupation                    0\n",
            "City_Category                 0\n",
            "Stay_In_Current_City_Years    0\n",
            "Marital_Status                0\n",
            "Product_Category              0\n",
            "Purchase                      0\n",
            "dtype: int64\n"
          ]
        }
      ]
    },
    {
      "cell_type": "markdown",
      "source": [
        "## **2.Detect Null values and outliers**\n"
      ],
      "metadata": {
        "id": "S-mLPhAHd_XQ"
      }
    },
    {
      "cell_type": "code",
      "source": [
        "plt.figure(figsize=(8, 6))\n",
        "sns.boxplot(data=df,y='Purchase')\n",
        "plt.title(\"Boxplot of Purchase Amount\")\n",
        "plt.show()"
      ],
      "metadata": {
        "colab": {
          "base_uri": "https://localhost:8080/",
          "height": 526
        },
        "id": "OvJqPK-XeHOz",
        "outputId": "920ac857-bebc-478f-ecbc-4f209c647500"
      },
      "execution_count": null,
      "outputs": [
        {
          "output_type": "display_data",
          "data": {
            "text/plain": [
              "<Figure size 800x600 with 1 Axes>"
            ],
            "image/png": "[encoded data removed]"
          },
          "metadata": {}
        }
      ]
    },
    {
      "cell_type": "markdown",
      "source": [
        "--> There are outliers above the upper whisker, meaning some customers made very high purchases. This could indicate bulk buyers or premium shoppers"
      ],
      "metadata": {
        "id": "xVasnLPWgU4F"
      }
    },
    {
      "cell_type": "code",
      "source": [
        "lower_bound=np.percentile(df['Purchase'],5)\n",
        "upper_bound=np.percentile(df[\"Purchase\"], 95)\n",
        "df['Purchase']=np.clip(df['Purchase'],lower_bound,upper_bound)\n",
        "plt.figure(figsize=(8, 6))\n",
        "sns.boxplot(data=df,y='Purchase')\n",
        "plt.title(\"Boxplot of Purchase Amount\")\n",
        "plt.show()"
      ],
      "metadata": {
        "colab": {
          "base_uri": "https://localhost:8080/",
          "height": 526
        },
        "id": "B3RjJBzmtBeS",
        "outputId": "f0d3f669-cc81-4113-d72a-74ef9e3b9ddd"
      },
      "execution_count": null,
      "outputs": [
        {
          "output_type": "display_data",
          "data": {
            "text/plain": [
              "<Figure size 800x600 with 1 Axes>"
            ],
            "image/png": "[encoded data removed]"
          },
          "metadata": {}
        }
      ]
    },
    {
      "cell_type": "markdown",
      "source": [
        "-->After clipping, extreme purchase values have been adjusted, making the data more balanced. This helps in getting a clearer picture of customer spending patterns without the influence of very high purchases. The cleaned data ensures more accurate analysis and better decision-making."
      ],
      "metadata": {
        "id": "zGxZtv3QtR7X"
      }
    },
    {
      "cell_type": "markdown",
      "source": [
        "##**3. Data Exploration**"
      ],
      "metadata": {
        "id": "Php7UhZktbCf"
      }
    },
    {
      "cell_type": "markdown",
      "source": [
        "**A.What products are different age groups buying?**"
      ],
      "metadata": {
        "id": "7fEle-l3XBIB"
      }
    },
    {
      "cell_type": "code",
      "source": [
        "plt.figure(figsize=(12, 6))\n",
        "sns.histplot(data=df, x=\"Product_Category\", hue=\"Age\",multiple='stack',bins=30)\n",
        "plt.title(\"Product Preferences by Age Group\")\n",
        "plt.xlabel(\"Product Category\")\n",
        "plt.ylabel(\"Count\")\n",
        "plt.xticks(rotation=90)\n",
        "plt.show()"
      ],
      "metadata": {
        "colab": {
          "base_uri": "https://localhost:8080/",
          "height": 581
        },
        "id": "kPAJOzOBZxb0",
        "outputId": "c3962fb1-51df-4cf8-afbf-2d56e0c2483e"
      },
      "execution_count": null,
      "outputs": [
        {
          "output_type": "display_data",
          "data": {
            "text/plain": [
              "<Figure size 1200x600 with 1 Axes>"
            ],
            "image/png": "[encoded data removed]"
          },
          "metadata": {}
        }
      ]
    },
    {
      "cell_type": "markdown",
      "source": [
        "**INSIGHTS:**\n",
        "\n",
        "The histogram indicates that the 26-35 age group dominates purchases across most product categories, followed by the 36-45 age group and then the 18-25 group. The 0-17 age group has the least representation, suggesting lower purchasing activity in this segment. This pattern highlights that individuals aged 26-35 are the most active consumers, likely due to higher purchasing power and consumer needs."
      ],
      "metadata": {
        "id": "nbf3miHEJ1AG"
      }
    },
    {
      "cell_type": "markdown",
      "source": [
        "**B.Is there a relationship between age, marital status, and the amount spent?**"
      ],
      "metadata": {
        "id": "iSJC2_fQa6Cs"
      }
    },
    {
      "cell_type": "code",
      "source": [
        "plt.figure(figsize=(10, 5))\n",
        "sns.boxplot(data=df, x=\"Age\", y=\"Purchase\", hue=\"Marital_Status\")\n",
        "plt.title(\"Relationship Between Age, Marital Status, and Purchase Amount\")\n",
        "plt.legend(title=\"Marital Status\",loc=\"upper right\")\n",
        "plt.show()"
      ],
      "metadata": {
        "colab": {
          "base_uri": "https://localhost:8080/",
          "height": 487
        },
        "id": "xTzXJFjOvQDi",
        "outputId": "1c2971b3-8628-4b54-fec6-9b89f8c48773"
      },
      "execution_count": null,
      "outputs": [
        {
          "output_type": "display_data",
          "data": {
            "text/plain": [
              "<Figure size 1000x500 with 1 Axes>"
            ],
            "image/png": "[encoded data removed]"
          },
          "metadata": {}
        }
      ]
    },
    {
      "cell_type": "markdown",
      "source": [
        "**INSIGHTS:**\n",
        "The box plot shows that purchase amounts remain relatively consistent across different age groups and marital statuses. The median values are close to each other, and the interquartile ranges are similar, indicating minimal variation. Additionally, no significant outliers are present, suggesting stable purchasing behavior across these categories. This indicates that factors other than age and marital status, such as income levels or marketing strategies, may have a greater influence on purchasing patterns."
      ],
      "metadata": {
        "id": "FEuVvonOIpuz"
      }
    },
    {
      "cell_type": "markdown",
      "source": [
        "**C.Are there preferred product categories for different genders?**"
      ],
      "metadata": {
        "id": "q-LcAbdjbGQG"
      }
    },
    {
      "cell_type": "code",
      "source": [
        "plt.figure(figsize=(10, 5))\n",
        "sns.histplot(data=df, x=\"Product_Category\", hue=\"Gender\",multiple=\"stack\", bins=30)\n",
        "plt.title(\"Preferred Product Categories by Gender\")\n",
        "plt.xticks(rotation=90)\n",
        "plt.show()"
      ],
      "metadata": {
        "colab": {
          "base_uri": "https://localhost:8080/",
          "height": 504
        },
        "id": "hpA-cK15wayy",
        "outputId": "847b3043-2c89-4f46-ea46-6f76b6424ccb"
      },
      "execution_count": null,
      "outputs": [
        {
          "output_type": "display_data",
          "data": {
            "text/plain": [
              "<Figure size 1000x500 with 1 Axes>"
            ],
            "image/png": "[encoded data removed]"
          },
          "metadata": {}
        }
      ]
    },
    {
      "cell_type": "markdown",
      "source": [
        "**INSIGHTS:**         \n",
        "The histogram shows that in almost every product category, males make up the majority of purchases, accounting for about 80-90% of the lower portion of each bar, while females contribute to the upper portion. This suggests that males have a higher purchasing frequency across most categories, while female purchases, though present, are relatively lower in comparison."
      ],
      "metadata": {
        "id": "yrg0DQKBJQj3"
      }
    },
    {
      "cell_type": "markdown",
      "source": [
        "##**4. How does gender affect the amount spent?**"
      ],
      "metadata": {
        "id": "9yj9VTO3bTne"
      }
    },
    {
      "cell_type": "code",
      "source": [
        "import scipy.stats as stats\n",
        "def compute_ci(data):\n",
        "    mean_spent = np.mean(data)\n",
        "    std_spent = np.std(data, ddof=1)\n",
        "    n = len(data)\n",
        "    margin_error = 1.96 * (std_spent / np.sqrt(n))\n",
        "    return int(mean_spent - margin_error), int(mean_spent + margin_error)\n",
        "ci_male = compute_ci(df[df[\"Gender\"] == \"M\"][\"Purchase\"])\n",
        "ci_female = compute_ci(df[df[\"Gender\"] == \"F\"][\"Purchase\"])\n",
        "\n",
        "print(f\"95% CI for Male Spending: {(ci_male)}\")\n",
        "print(f\"95% CI for Female Spending: {ci_female}\")\n"
      ],
      "metadata": {
        "colab": {
          "base_uri": "https://localhost:8080/"
        },
        "id": "yMyH3Q2QbbVc",
        "outputId": "dd41f8c8-2452-4b75-fefa-fe03152a7438"
      },
      "execution_count": null,
      "outputs": [
        {
          "output_type": "stream",
          "name": "stdout",
          "text": [
            "95% CI for Male Spending: (9412, 9442)\n",
            "95% CI for Female Spending: (8712, 8760)\n"
          ]
        }
      ]
    },
    {
      "cell_type": "code",
      "source": [
        "def compute_clt_ci(data, sample_size):\n",
        "    sample = np.random.choice(data, sample_size, replace=False)\n",
        "    sample_mean = np.mean(sample)\n",
        "    sample_std = np.std(sample, ddof=1)\n",
        "    margin_of_error = 1.96 * (sample_std / np.sqrt(sample_size))\n",
        "\n",
        "    return (int(sample_mean - margin_of_error), int(sample_mean + margin_of_error))\n",
        "\n",
        "\n",
        "male_spending = df[df[\"Gender\"] == \"M\"][\"Purchase\"].values\n",
        "female_spending = df[df[\"Gender\"] == \"F\"][\"Purchase\"].values\n",
        "\n",
        "sample_sizes = [300, 3000, 30000]\n",
        "\n",
        "for size in sample_sizes:\n",
        "    ci_male = compute_clt_ci(male_spending, size)\n",
        "    print(f\"95% CI for Male Spending (n={size}): {ci_male}\")\n",
        "\n",
        "for size in sample_sizes:\n",
        "    ci_female = compute_clt_ci(female_spending, size)\n",
        "    print(f\"95% CI for Female Spending (n={size}): {ci_female}\")\n"
      ],
      "metadata": {
        "colab": {
          "base_uri": "https://localhost:8080/"
        },
        "id": "rxem6pHWqy3l",
        "outputId": "56eb70c0-e7d3-40fe-b98d-1469e6b97c3d"
      },
      "execution_count": null,
      "outputs": [
        {
          "output_type": "stream",
          "name": "stdout",
          "text": [
            "95% CI for Male Spending (n=300): (8244, 9348)\n",
            "95% CI for Male Spending (n=3000): (9241, 9598)\n",
            "95% CI for Male Spending (n=30000): (9366, 9478)\n",
            "95% CI for Female Spending (n=300): (8278, 9388)\n",
            "95% CI for Female Spending (n=3000): (8620, 8955)\n",
            "95% CI for Female Spending (n=30000): (8710, 8814)\n"
          ]
        }
      ]
    },
    {
      "cell_type": "markdown",
      "source": [
        "\n",
        "\n",
        "**i. Is the confidence interval wider for one gender? Why?**  \n",
        "Yes, the **confidence interval (CI) for male spending is wider** compared to female spending. This happens because there is more variability in male spending, meaning some men spend significantly more or less than the average. In contrast, female spending is more consistent, leading to a **narrower CI** with less uncertainty.  \n",
        "\n",
        "\n",
        "\n",
        "\n",
        "\n",
        "\n",
        "\n",
        "**ii. How does sample size impact the confidence interval?**  \n",
        "As the **sample size increases, the confidence interval becomes narrower**. This means that with a larger sample, we get a more accurate estimate of the true average spending. **Smaller samples have more variability**, which results in wider CIs.  \n",
        "\n",
        "\n",
        "\n",
        "\n",
        "\n",
        "\n",
        "\n",
        "**iii. Do confidence intervals for different sample sizes overlap?**  \n",
        "Yes, confidence intervals from smaller samples **still overlap with those from larger samples**, indicating that they capture the general trend of spending. However, the CIs from smaller samples are wider, making them less precise compared to those from larger sample sizes.  \n",
        "\n",
        "\n",
        "\n",
        "\n",
        "\n",
        "\n",
        "\n",
        "**iv. How does sample size influence the distribution of means?**  \n",
        "With **larger sample sizes, the distribution of means becomes more normal and concentrated around the true mean**. This aligns with the **Central Limit Theorem (CLT)**, which states that as the sample size increases, the sample mean distribution approaches a normal distribution, reducing uncertainty and improving accuracy.  \n"
      ],
      "metadata": {
        "id": "6k4rGo0S0o3x"
      }
    },
    {
      "cell_type": "markdown",
      "source": [
        "##**5. How does Marital_Status affect the amount spent?**"
      ],
      "metadata": {
        "id": "bgbDSjIU0z4D"
      }
    },
    {
      "cell_type": "code",
      "source": [
        "def compute_ci(data, sample_size):\n",
        "    sample = np.random.choice(data, size=sample_size, replace=False)\n",
        "    mean = np.mean(sample)\n",
        "    std = np.std(sample, ddof=1)\n",
        "    margin_of_error = 1.96 * (std / np.sqrt(sample_size))\n",
        "    return int(round(mean - margin_of_error, 2)), int(round(mean + margin_of_error, 2))\n",
        "\n",
        "\n",
        "married_spending = df[df[\"Marital_Status\"] == 0][\"Purchase\"].values\n",
        "single_spending = df[df[\"Marital_Status\"] == 1][\"Purchase\"].values\n",
        "\n",
        "\n",
        "ci_married_full = compute_ci(married_spending, len(married_spending))\n",
        "ci_single_full = compute_ci(single_spending, len(single_spending))\n",
        "\n",
        "ci_married_300 = compute_ci(married_spending, 300)\n",
        "ci_married_3000 = compute_ci(married_spending, 3000)\n",
        "ci_married_30000 = compute_ci(married_spending, 30000)\n",
        "\n",
        "ci_single_300 = compute_ci(single_spending, 300)\n",
        "ci_single_3000 = compute_ci(single_spending, 3000)\n",
        "ci_single_30000 = compute_ci(single_spending, 30000)\n",
        "\n",
        "\n",
        "print(\"95% CI for Married Spending (Full Data):\", ci_married_full)\n",
        "print(\"95% CI for Single Spending (Full Data):\", ci_single_full)\n",
        "\n",
        "print(\"95% CI for Married Spending (n=300):\", ci_married_300)\n",
        "print(\"95% CI for Married Spending (n=3000):\", ci_married_3000)\n",
        "print(\"95% CI for Married Spending (n=30000):\", ci_married_30000)\n",
        "\n",
        "print(\"95% CI for Single Spending (n=300):\", ci_single_300)\n",
        "print(\"95% CI for Single Spending (n=3000):\", ci_single_3000)\n",
        "print(\"95% CI for Single Spending (n=30000):\", ci_single_30000)\n"
      ],
      "metadata": {
        "colab": {
          "base_uri": "https://localhost:8080/"
        },
        "id": "hFAtchIa1o_p",
        "outputId": "ce1d567e-abf6-4304-814d-52d21497fe49"
      },
      "execution_count": null,
      "outputs": [
        {
          "output_type": "stream",
          "name": "stdout",
          "text": [
            "95% CI for Married Spending (Full Data): (9242, 9275)\n",
            "95% CI for Single Spending (Full Data): (9233, 9273)\n",
            "95% CI for Married Spending (n=300): (8567, 9639)\n",
            "95% CI for Married Spending (n=3000): (9062, 9400)\n",
            "95% CI for Married Spending (n=30000): (9215, 9326)\n",
            "95% CI for Single Spending (n=300): (8707, 9859)\n",
            "95% CI for Single Spending (n=3000): (9099, 9453)\n",
            "95% CI for Single Spending (n=30000): (9202, 9312)\n"
          ]
        }
      ]
    },
    {
      "cell_type": "markdown",
      "source": [
        "i. **Is the confidence interval wider for one marital status? Why?**  \n",
        "Yes, the confidence interval for single individuals is slightly wider than for married individuals. This suggests that spending among single individuals is more variable, leading to greater uncertainty in the estimate. Married individuals likely have more consistent spending patterns, which results in a narrower confidence interval.  \n",
        "\n",
        "\n",
        "\n",
        "\n",
        "ii. **How is the width of the confidence interval affected by the sample size?**  \n",
        "As the sample size increases, the confidence interval becomes narrower. Larger samples provide a more precise estimate of the population mean by reducing variability, while smaller samples have more fluctuations, leading to wider confidence intervals.  \n",
        "\n",
        "\n",
        "\n",
        "\n",
        "iii. **Do the confidence intervals for different sample sizes overlap?**  \n",
        "Yes, the confidence intervals for different sample sizes do overlap, indicating that the estimated mean spending remains within a similar range regardless of the sample size. However, smaller sample sizes have wider confidence intervals, reflecting greater uncertainty in the estimate.  \n",
        "\n",
        "\n",
        "\n",
        "\n",
        "iv. **How does the sample size affect the shape of the distributions of the means?**  \n",
        "As the sample size increases, the distribution of sample means becomes more normal and centered around the true mean. This follows the Central Limit Theorem (CLT), which states that with a sufficiently large sample size, the distribution of sample means approaches a normal distribution, leading to more reliable and accurate estimates."
      ],
      "metadata": {
        "id": "OIbW3ign52ZU"
      }
    },
    {
      "cell_type": "markdown",
      "source": [
        "##**6. How does Age affect the amount spent?**"
      ],
      "metadata": {
        "id": "kNTL6AV2_1sO"
      }
    },
    {
      "cell_type": "code",
      "source": [
        "\n",
        "\n",
        "def compute_ci(data, sample_size):\n",
        "    sample = np.random.choice(data, size=sample_size, replace=False)\n",
        "    mean = np.mean(sample)\n",
        "    std = np.std(sample, ddof=1)\n",
        "    margin_of_error = 1.96 * (std / np.sqrt(sample_size))\n",
        "    return int(round(mean - margin_of_error, 2)), int(round(mean + margin_of_error, 2))\n",
        "\n",
        "\n",
        "\n",
        "age_0_1 = df[df[\"Age\"] == \"0-1\"][\"Purchase\"].values\n",
        "age_18_25 = df[df[\"Age\"] == \"18-25\"][\"Purchase\"].values\n",
        "age_26_35 = df[df[\"Age\"] == \"26-35\"][\"Purchase\"].values\n",
        "age_36_45 = df[df[\"Age\"] == \"36-45\"][\"Purchase\"].values\n",
        "age_46_50 = df[df[\"Age\"] == \"46-50\"][\"Purchase\"].values\n",
        "age_51_55 = df[df[\"Age\"] == \"51-55\"][\"Purchase\"].values\n",
        "age_55_plus = df[df[\"Age\"] == \"55+\"][\"Purchase\"].values\n",
        "\n",
        "age_groups = {\n",
        "    \"0-1\": age_0_1,\n",
        "    \"18-25\": age_18_25,\n",
        "    \"26-35\": age_26_35,\n",
        "    \"36-45\": age_36_45,\n",
        "    \"46-50\": age_46_50,\n",
        "    \"51-55\": age_51_55,\n",
        "    \"55+\": age_55_plus\n",
        "}\n",
        "\n",
        "for age_group, data in age_groups.items():\n",
        "    if len(data) < 300:\n",
        "        print(f\"Not enough data for {age_group} age group\")\n",
        "        continue\n",
        "\n",
        "    ci_full = compute_ci(data, len(data))\n",
        "    ci_300 = compute_ci(data, 300)\n",
        "    ci_3000 = compute_ci(data, 3000) if len(data) >= 3000 else \"Not enough data\"\n",
        "    ci_30000 = compute_ci(data, 30000) if len(data) >= 30000 else \"Not enough data\"\n",
        "\n",
        "    print(f\"95% CI for Age {age_group} Spending (Full Data):\", ci_full)\n",
        "    print(f\"95% CI for Age {age_group} Spending (n=300):\", ci_300)\n",
        "    print(f\"95% CI for Age {age_group} Spending (n=3000):\", ci_3000)\n",
        "    print(f\"95% CI for Age {age_group} Spending (n=30000):\", ci_30000)\n",
        "    print()\n"
      ],
      "metadata": {
        "colab": {
          "base_uri": "https://localhost:8080/"
        },
        "id": "ZMPtobwQ_8WT",
        "outputId": "d2faea52-dcf7-4176-a727-41d269d7be39"
      },
      "execution_count": null,
      "outputs": [
        {
          "output_type": "stream",
          "name": "stdout",
          "text": [
            "Not enough data for 0-1 age group\n",
            "95% CI for Age 18-25 Spending (Full Data): (9138, 9199)\n",
            "95% CI for Age 18-25 Spending (n=300): (8912, 10035)\n",
            "95% CI for Age 18-25 Spending (n=3000): (9113, 9466)\n",
            "95% CI for Age 18-25 Spending (n=30000): (9123, 9234)\n",
            "\n",
            "95% CI for Age 26-35 Spending (Full Data): (9223, 9264)\n",
            "95% CI for Age 26-35 Spending (n=300): (8653, 9807)\n",
            "95% CI for Age 26-35 Spending (n=3000): (9239, 9590)\n",
            "95% CI for Age 26-35 Spending (n=30000): (9142, 9251)\n",
            "\n",
            "95% CI for Age 36-45 Spending (Full Data): (9294, 9351)\n",
            "95% CI for Age 36-45 Spending (n=300): (9040, 10166)\n",
            "95% CI for Age 36-45 Spending (n=3000): (9150, 9494)\n",
            "95% CI for Age 36-45 Spending (n=30000): (9305, 9415)\n",
            "\n",
            "95% CI for Age 46-50 Spending (Full Data): (9160, 9248)\n",
            "95% CI for Age 46-50 Spending (n=300): (8856, 9957)\n",
            "95% CI for Age 46-50 Spending (n=3000): (9109, 9451)\n",
            "95% CI for Age 46-50 Spending (n=30000): (9169, 9277)\n",
            "\n",
            "95% CI for Age 51-55 Spending (Full Data): (9466, 9563)\n",
            "95% CI for Age 51-55 Spending (n=300): (8796, 9929)\n",
            "95% CI for Age 51-55 Spending (n=3000): (9321, 9669)\n",
            "95% CI for Age 51-55 Spending (n=30000): (9440, 9550)\n",
            "\n",
            "95% CI for Age 55+ Spending (Full Data): (9263, 9391)\n",
            "95% CI for Age 55+ Spending (n=300): (8668, 9751)\n",
            "95% CI for Age 55+ Spending (n=3000): (9401, 9746)\n",
            "95% CI for Age 55+ Spending (n=30000): Not enough data\n",
            "\n"
          ]
        }
      ]
    },
    {
      "cell_type": "markdown",
      "source": [
        "**i. Is the confidence interval computed using the entire dataset wider for age groups? Why is this the case?**  \n",
        "\n",
        "No, the confidence interval for the entire dataset is narrower because it includes all available data, making the estimate more accurate. Smaller samples have more uncertainty, which makes their confidence intervals wider.  \n",
        "\n",
        "\n",
        "\n",
        "**ii. How is the width of the confidence interval affected by the sample size?**  \n",
        "\n",
        "As the sample size increases, the confidence interval becomes narrower. This happens because larger samples give a better estimate of the actual population average, reducing uncertainty. Smaller samples have more variation, leading to wider intervals.  \n",
        "\n",
        "\n",
        "\n",
        "**iii. Do the confidence intervals for different sample sizes overlap?**  \n",
        "\n",
        "Yes, confidence intervals for different sample sizes do overlap, but smaller samples tend to have more variation, making their confidence intervals wider and less precise. Larger sample sizes have more stable confidence intervals, which are closer to the actual population values.  \n",
        "\n",
        "\n",
        "\n",
        "**iv. How does the sample size affect the shape of the distributions of the means?**  \n",
        "\n",
        "With a small sample size, the distribution of sample means can be uneven or skewed. But as the sample size increases, the distribution becomes more normal and smooth due to the Central Limit Theorem (CLT). This means larger samples give more reliable and consistent estimates."
      ],
      "metadata": {
        "id": "ToKdNUbYD0HL"
      }
    },
    {
      "cell_type": "markdown",
      "source": [
        "##**7. Create a report**\n"
      ],
      "metadata": {
        "id": "0GsdQqB-GUu5"
      }
    },
    {
      "cell_type": "markdown",
      "source": [
        "\n",
        "**Report on Confidence Intervals and Consumer Spending Insights for Walmart**  \n",
        "\n",
        "**a. Gender-Based Spending:**  \n",
        "By analyzing confidence intervals for male and female spending, we can determine if their average spending significantly differs. If the confidence intervals overlap, it suggests similar spending behavior, meaning Walmart’s marketing strategies can remain uniform across genders. However, if they do not overlap, Walmart can introduce gender-specific promotions, discounts, and product recommendations to maximize sales and customer engagement.  \n",
        "\n",
        "**b. Marital Status and Spending:**  \n",
        "Examining the confidence intervals for married and unmarried customers helps assess if their spending patterns differ. If there is no overlap, it indicates distinct purchasing behaviors, allowing Walmart to design targeted campaigns, such as family-centric promotions for married customers and personalized deals for singles. If the intervals overlap, Walmart can focus on broader marketing strategies rather than segmenting based on marital status.  \n",
        "\n",
        "**c. Age Group Spending:**  \n",
        "Analyzing confidence intervals across different age groups helps identify which demographics contribute the most to Walmart’s revenue. If spending patterns vary significantly (i.e., no overlap in confidence intervals), Walmart can tailor product selections, loyalty programs, and discounts to specific age groups. For instance, younger customers may be more inclined toward tech products, while older customers might prioritize household essentials. If the confidence intervals overlap, a more generalized approach can be adopted for promotions.\n",
        "\n",
        "\n",
        "**-->By leveraging these insights, Walmart can refine pricing strategies, optimize inventory, and enhance customer experience, ultimately improving sales and profitability.**\n"
      ],
      "metadata": {
        "id": "wJF7mNUMGYZO"
      }
    },
    {
      "cell_type": "markdown",
      "source": [
        "##**8. Recommendations**"
      ],
      "metadata": {
        "id": "Ow8aqnh6GiLx"
      }
    },
    {
      "cell_type": "markdown",
      "source": [
        "### **Recommendations Based on Walmart Data Analysis**  \n",
        "\n",
        " **Customer Segmentation & Targeted Marketing**  \n",
        "  Analyzing customer demographics like age, gender, and marital status can help create personalized marketing strategies. Offering family discounts for married customers and exclusive membership benefits for singles can boost engagement.  \n",
        "\n",
        " **Spending Patterns & Product Preferences**  \n",
        "  Understanding customer spending behavior and preferences can help in optimizing inventory and pricing. Identifying peak shopping hours and seasonal trends ensures better stock management and product placement.  \n",
        "\n",
        " **Managing Outliers & Special Segments**  \n",
        "  Detecting bulk buyers and regular shoppers allows for customized discounts and promotions. Identifying unusual purchase patterns can help prevent stock shortages and supply chain disruptions.  \n",
        "\n",
        " **Forecasting & Inventory Management**  \n",
        "  Predictive analytics can improve demand forecasting, reducing the risks of overstocking or stockouts. Implementing real-time data tracking helps maintain optimal inventory levels, minimizing waste and improving efficiency.  \n",
        "\n",
        " **Business Growth & Customer Engagement**  \n",
        "  Using AI-driven insights can optimize decision-making, enhance supply chain efficiency, and personalize customer experiences. Focused marketing and operational improvements can drive revenue growth and ensure long-term sustainability.  \n",
        "\n",
        "**-->By implementing these strategies, Walmart can achieve higher customer satisfaction, improved sales, and enhanced operational efficiency.**"
      ],
      "metadata": {
        "id": "oV3fIPAYHyOG"
      }
    },
    {
      "cell_type": "code",
      "source": [],
      "metadata": {
        "id": "gZffPaMHKUik"
      },
      "execution_count": null,
      "outputs": []
    },
    {
      "cell_type": "code",
      "source": [],
      "metadata": {
        "id": "2triX8lwKU9E"
      },
      "execution_count": null,
      "outputs": []
    },
    {
      "cell_type": "code",
      "source": [],
      "metadata": {
        "id": "I0N1rTC9KU_o"
      },
      "execution_count": null,
      "outputs": []
    }
  ]
}